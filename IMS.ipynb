{
 "cells": [
  {
   "cell_type": "markdown",
   "source": [
    "# Dataset"
   ],
   "metadata": {}
  },
  {
   "cell_type": "raw",
   "source": [
    "\r\n",
    "data={ 20210701:{\"Pd_Name\":\"Soda\",\"type\":\"1L\",\"price\":\"20\",\"Avail_Qty\":100,\"Discount\":\"N/A\"},\r\n",
    "    20210702:{\"Pd_Name\":\"Pepsi\",\"type\":\"1L\",\"price\":\"20\",\"Avail_Qty\":100,\"Discount\":\"N/A\"},\r\n",
    "    20210703:{\"Pd_Name\":\"Chips\",\"type\":\"1Kg\",\"price\":\"20\",\"Avail_Qty\":200,\"Discount\":\"N/A\"},\r\n",
    "    20210704:{\"Pd_Name\":\"PopCorn\",\"type\":\"1Kg\",\"price\":\"20\",\"Avail_Qty\":300,\"Discount\":\"10%\"},\r\n",
    "    20210705:{\"Pd_Name\":\"Bhujia\",\"type\":\"1Kg\",\"price\":\"200\",\"Avail_Qty\":60,\"Discount\":\"10%\"},\r\n",
    "    20210706:{\"Pd_Name\":\"Cashew\",\"type\":\"1Kg\",\"price\":\"800\",\"Avail_Qty\":450,\"Discount\":\"20%\"},\r\n",
    "    20210707:{\"Pd_Name\":\"Almonds\",\"type\":\"1Kg\",\"price\":\"900\",\"Avail_Qty\":100,\"Discount\":\"20%\"},\r\n",
    "    20210708:{\"Pd_Name\":\"Sugar\",\"type\":\"1Kg\",\"price\":\"40\",\"Avail_Qty\":1000,\"Discount\":\"10%\"},\r\n",
    "    20210709:{\"Pd_Name\":\"Salt\",\"type\":\"1Kg\",\"price\":\"30\",\"Avail_Qty\":1000,\"Discount\":\"5%\"},\r\n",
    "    20210710:{\"Pd_Name\":\"Aata\",\"type\":\"1Kg\",\"price\":\"70\",\"Avail_Qty\":1000,\"Discount\":\"15%\"},\r\n",
    "    20210711:{\"Pd_Name\":\"Nuts\",\"type\":\"1Kg\",\"price\":\"45\",\"Avail_Qty\":1000,\"Discount\":\"N/A\"},\r\n",
    "    20210712:{\"Pd_Name\":\"Maggie\",\"type\":\"1pk\",\"price\":\"10\",\"Avail_Qty\":100,\"Discount\":\"N/A\"},\r\n",
    "    20210713:{\"Pd_Name\":\"Noodels\",\"type\":\"1pk\",\"price\":\"20\",\"Avail_Qty\":100,\"Discount\":\"10%\"},\r\n",
    "    20210714:{\"Pd_Name\":\"Oil\",\"type\":\"1L\",\"price\":\"90\",\"Avail_Qty\":1500,\"Discount\":\"10%\"},\r\n",
    "    20210715:{\"Pd_Name\":\"Jaggry\",\"type\":\"1Kg\",\"price\":\"30\",\"Avail_Qty\":400,\"Discount\":\"10%\"},\r\n",
    "    20210716:{\"Pd_Name\":\"Poha\",\"type\":\"1Kg\",\"price\":\"45\",\"Avail_Qty\":350,\"Discount\":\"N/A\"},\r\n",
    "    20210717:{\"Pd_Name\":\"Aaloo\",\"type\":\"1Kg\",\"price\":\"20\",\"Avail_Qty\":20,\"Discount\":\"N/A\"},\r\n",
    "    20210718:{\"Pd_Name\":\"Tomato\",\"type\":\"1Kg\",\"price\":\"20\",\"Avail_Qty\":20,\"Discount\":\"N/A\"},\r\n",
    "    20210719:{\"Pd_Name\":\"Pickle\",\"type\":\"1Kg\",\"price\":\"100\",\"Avail_Qty\":100,\"Discount\":\"10%\"},\r\n",
    "    20210720:{\"Pd_Name\":\"Rice\",\"type\":\"1Kg\",\"price\":\"20\",\"Avail_Qty\":100,\"Discount\":\"10%\"},\r\n",
    "    20210721:{\"Pd_Name\":\"Wheat\",\"type\":\"1Kg\",\"price\":\"20\",\"Avail_Qty\":100,\"Discount\":\"10%\"},\r\n",
    "    20210722:{\"Pd_Name\":\"Apple\",\"type\":\"1Kg\",\"price\":\"40\",\"Avail_Qty\":100,\"Discount\":\"10%\"},\r\n",
    "    20210723:{\"Pd_Name\":\"Orange\",\"type\":\"1Kg\",\"price\":\"30\",\"Avail_Qty\":100,\"Discount\":\"10%\"},\r\n",
    "    20210724:{\"Pd_Name\":\"Soap\",\"type\":\"1pk\",\"price\":\"20\",\"Avail_Qty\":100,\"Discount\":\"N/A\"},\r\n",
    "    20210725:{\"Pd_Name\":\"Candy\",\"type\":\"1pk\",\"price\":\"20\",\"Avail_Qty\":100,\"Discount\":\"N/A\"},\r\n",
    "    20210726:{\"Pd_Name\":\"SanitiZer\",\"type\":\"1L\",\"price\":\"25\",\"Avail_Qty\":100,\"Discount\":\"N/A\"},\r\n",
    "    20210727:{\"Pd_Name\":\"Broom\",\"type\":\"1\",\"price\":\"20\",\"Avail_Qty\":100,\"Discount\":\"N/A\"},\r\n",
    "    20210728:{\"Pd_Name\":\"Kurkure\",\"type\":\"1pk\",\"price\":\"10\",\"Avail_Qty\":100,\"Discount\":\"N/A\"},\r\n",
    "    20210729:{\"Pd_Name\":\"Walnuts\",\"type\":\"1Kg\",\"price\":\"200\",\"Avail_Qty\":100,\"Discount\":\"13%\"},\r\n",
    "    20210730:{\"Pd_Name\":\"Football\",\"type\":\"1\",\"price\":\"300\",\"Avail_Qty\":100,\"Discount\":\"N/A\"}\r\n",
    "}"
   ],
   "metadata": {}
  },
  {
   "cell_type": "markdown",
   "source": [
    "## read and Write function"
   ],
   "metadata": {}
  },
  {
   "cell_type": "code",
   "execution_count": 9,
   "source": [
    "import json\r\n",
    "def getdate():\r\n",
    "    import datetime\r\n",
    "    return datetime.datetime.now()\r\n",
    "tm=str(getdate())\r\n",
    "def read(file_name):\r\n",
    "    with open (file_name,\"r\") as fn:\r\n",
    "        cont=fn.read()\r\n",
    "        rec=json.loads(cont)\r\n",
    "        return rec\r\n",
    "        \r\n",
    "def write(file_name,dt2write):\r\n",
    "    with open (file_name,\"w\") as fd:\r\n",
    "        fd.write(dt2write)\r\n",
    "\r\n",
    "def append(file_name,dt2write):\r\n",
    "    with open (file_name,\"a\") as fd:\r\n",
    "        fd.write(tm+\" : \"+dt2write+\"\\n\")\r\n",
    "    \r\n",
    "record=read(\"data.json\")\r\n",
    "\r\n"
   ],
   "outputs": [],
   "metadata": {}
  },
  {
   "cell_type": "code",
   "execution_count": null,
   "source": [],
   "outputs": [],
   "metadata": {}
  },
  {
   "cell_type": "markdown",
   "source": [
    "## Add new items in inventory"
   ],
   "metadata": {}
  },
  {
   "cell_type": "code",
   "execution_count": 10,
   "source": [
    "print(\"********************\")\r\n",
    "# \"20210701\": {\"Pd_Name\": \"Soda\", \"Type\": \"1L\", \"price\": \"20\", \"Avail_Qty\": 100, \"Discount\": \"N/A\"}\r\n",
    "Pd_Id=input(\"Enter Product Id :\")\r\n",
    "Pd_Name=input(\"Enter Product Name :\")\r\n",
    "Type=input(\"Enter Product Type Net Qty :\")\r\n",
    "price=input(\"Enter Product Price :\")\r\n",
    "Avail_Qty=int(input(\"Enter Product Available Qantity :\"))\r\n",
    "Discount=input(\"Enter Product Discount :\")\r\n",
    "print(\"*********************\")\r\n",
    "record[Pd_Id]={\"Pd_Name\": Pd_Name, \"Type\": Type, \"price\": price, \"Avail_Qty\": Avail_Qty, \"Discount\": Discount}\r\n",
    "record=json.dumps(record)\r\n",
    "write(\"data.json\",record)\r\n",
    "record=json.loads(record)\r\n",
    "print(\"Added Successfully\")\r\n"
   ],
   "outputs": [
    {
     "output_type": "stream",
     "name": "stdout",
     "text": [
      "********************\n",
      "Enter Product Id :20210732\n",
      "Enter Product Name :dal\n",
      "Enter Product Type Net Qty :1Kg\n",
      "Enter Product Price :100\n",
      "Enter Product Available Qantity :100\n",
      "Enter Product Discount :N/A\n",
      "*********************\n",
      "Added Successfully\n"
     ]
    }
   ],
   "metadata": {}
  },
  {
   "cell_type": "markdown",
   "source": [
    "# Purchase"
   ],
   "metadata": {}
  },
  {
   "cell_type": "code",
   "execution_count": 12,
   "source": [
    "print(\"*******************\")\r\n",
    "Customer_name=input(\"Ënter customer's Name :\")\r\n",
    "ui_prodId=input(\"Ënter Product Id :\")\r\n",
    "ui_prodQty=int(input(\"Ënter Product Quantity Purchased(Kg/Litre/item) :\"))\r\n",
    "if ui_prodId in list(record.keys()):\r\n",
    "    if ui_prodQty<=record[ui_prodId][\"Avail_Qty\"]:\r\n",
    "        record[ui_prodId][\"Avail_Qty\"]-=ui_prodQty\r\n",
    "        bill=ui_prodQty*int(record[ui_prodId][\"price\"])\r\n",
    "        print(\"*******************\")\r\n",
    "        print(\"Ïtem Purchased :\",record[ui_prodId][\"Pd_Name\"])\r\n",
    "        print(\"Total Billing Amount :\",bill ,\".00 rupees\")\r\n",
    "        record=json.dumps(record)\r\n",
    "        write(\"data.json\",record)\r\n",
    "        record=json.loads(record)\r\n",
    "        \r\n",
    "    else:\r\n",
    "        print(\" Sorry :(( Amount is Greater than Available Quantity \")\r\n",
    "else:\r\n",
    "    print(\"Wrong Id Entered\")\r\n",
    "    "
   ],
   "outputs": [
    {
     "output_type": "stream",
     "name": "stdout",
     "text": [
      "*******************\n",
      "Ënter customer's Name :utkarsh\n",
      "Ënter Product Id :20210730\n",
      "Ënter Product Quantity Purchased(Kg/Litre/item) :1\n",
      "*******************\n",
      "Ïtem Purchased : Football\n",
      "Total Billing Amount : 300 .00 rupees\n"
     ]
    }
   ],
   "metadata": {}
  },
  {
   "cell_type": "markdown",
   "source": [
    "# sale "
   ],
   "metadata": {}
  },
  {
   "cell_type": "code",
   "execution_count": 13,
   "source": [
    "sale={}\n",
    "sale[Customer_name]={\"Pd_Id\":ui_prodId,\"ui_prodQty\":ui_prodQty,\"Amount\":bill}\n",
    "sale=json.dumps(sale)\n",
    "append(\"sale.json\",sale)\n",
    "sale=json.loads(sale)\n",
    "print(\"*********************\")\n",
    "print(\"Added Successfully\")\n",
    "print(\"*********************\")"
   ],
   "outputs": [
    {
     "output_type": "stream",
     "name": "stdout",
     "text": [
      "*********************\n",
      "Added Successfully\n",
      "*********************\n"
     ]
    }
   ],
   "metadata": {}
  },
  {
   "cell_type": "code",
   "execution_count": null,
   "source": [],
   "outputs": [],
   "metadata": {}
  },
  {
   "cell_type": "code",
   "execution_count": null,
   "source": [],
   "outputs": [],
   "metadata": {}
  },
  {
   "cell_type": "code",
   "execution_count": null,
   "source": [],
   "outputs": [],
   "metadata": {}
  },
  {
   "cell_type": "code",
   "execution_count": null,
   "source": [],
   "outputs": [],
   "metadata": {}
  },
  {
   "cell_type": "code",
   "execution_count": null,
   "source": [],
   "outputs": [],
   "metadata": {}
  },
  {
   "cell_type": "code",
   "execution_count": null,
   "source": [],
   "outputs": [],
   "metadata": {}
  },
  {
   "cell_type": "code",
   "execution_count": null,
   "source": [],
   "outputs": [],
   "metadata": {}
  }
 ],
 "metadata": {
  "kernelspec": {
   "name": "python3",
   "display_name": "Python 3.9.6 64-bit"
  },
  "language_info": {
   "codemirror_mode": {
    "name": "ipython",
    "version": 3
   },
   "file_extension": ".py",
   "mimetype": "text/x-python",
   "name": "python",
   "nbconvert_exporter": "python",
   "pygments_lexer": "ipython3",
   "version": "3.9.6"
  },
  "interpreter": {
   "hash": "c8329500ae67c9ac4c84b3f0015d2e7ab863f3237c319e18155e1811dd23c2b8"
  }
 },
 "nbformat": 4,
 "nbformat_minor": 4
}